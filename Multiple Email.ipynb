{
 "cells": [
  {
   "cell_type": "code",
   "execution_count": 1,
   "id": "a14ab2a6",
   "metadata": {},
   "outputs": [],
   "source": [
    "import smtplib\n",
    "import csv\n",
    "from string import Template\n",
    "from email.mime.multipart import MIMEMultipart\n",
    "from email.mime.text import MIMEText"
   ]
  },
  {
   "cell_type": "code",
   "execution_count": 2,
   "id": "14569648",
   "metadata": {},
   "outputs": [],
   "source": [
    "from env import email_id, pw"
   ]
  },
  {
   "cell_type": "code",
   "execution_count": 3,
   "id": "59e3beff",
   "metadata": {},
   "outputs": [
    {
     "data": {
      "text/plain": [
       "(235, b'2.7.0 Accepted')"
      ]
     },
     "execution_count": 3,
     "metadata": {},
     "output_type": "execute_result"
    }
   ],
   "source": [
    "s = smtplib.SMTP(host=\"smtp.gmail.com\", port=587)\n",
    "s.starttls()\n",
    "s.login(email_id, pw)"
   ]
  },
  {
   "cell_type": "code",
   "execution_count": 4,
   "id": "24bb6ddc",
   "metadata": {},
   "outputs": [],
   "source": [
    "def read_template(filename):\n",
    "    with open(filename, 'r', encoding='utf-8') as template_file:\n",
    "              template_file_content = template_file.read()\n",
    "              return Template(template_file_content)"
   ]
  },
  {
   "cell_type": "code",
   "execution_count": 5,
   "id": "0f0b628b",
   "metadata": {},
   "outputs": [],
   "source": [
    "message_template = read_template(\"email_content.txt\")"
   ]
  },
  {
   "cell_type": "code",
   "execution_count": 6,
   "id": "feba198e",
   "metadata": {},
   "outputs": [
    {
     "name": "stdout",
     "output_type": "stream",
     "text": [
      "['Mr. Waqas', 'ali_acma@hotmail.com', '92', '82', '89']\n",
      "Email sent to ali_acma@hotmail.com\n",
      "\n",
      "Dear Mr. Waqas,\n",
      "\n",
      "You have secured the following marks in your mid-term exams:\n",
      "\n",
      "Math - 92\n",
      "English - 82\n",
      "Science - 89\n",
      "\n",
      "Regard,\n",
      "Examination Department\n",
      "\n",
      "['Mr.Babar', 'baber.acma@gmail.com', '85', '81', '99']\n",
      "Email sent to baber.acma@gmail.com\n",
      "\n",
      "Dear Mr.Babar,\n",
      "\n",
      "You have secured the following marks in your mid-term exams:\n",
      "\n",
      "Math - 85\n",
      "English - 81\n",
      "Science - 99\n",
      "\n",
      "Regard,\n",
      "Examination Department\n",
      "\n",
      "['Mr. B Saleem', 'babar@habibidev.pk', '90', '90', '90']\n",
      "Email sent to babar@habibidev.pk\n",
      "\n",
      "Dear Mr. B Saleem,\n",
      "\n",
      "You have secured the following marks in your mid-term exams:\n",
      "\n",
      "Math - 90\n",
      "English - 90\n",
      "Science - 90\n",
      "\n",
      "Regard,\n",
      "Examination Department\n",
      "\n"
     ]
    }
   ],
   "source": [
    "with open(\"email_details.csv\", encoding = \"utf-8\") as f:\n",
    "    reader = csv.reader(f, delimiter=\",\")\n",
    "    next(reader)\n",
    "    for row in reader:\n",
    "        print(row)\n",
    "        msg = MIMEMultipart() \n",
    "        message=message_template.substitute(PERSON_NAME=row[0],MATH=row[2],ENG=row[3],SCI=row[4])\n",
    "        print(f\"Email sent to {row[1]}\")\n",
    "        print(end = \"\\n\")\n",
    "        print(message)\n",
    "        print(end = \"\\n\")\n",
    "        \n",
    "        msg[\"From\"] = email_id\n",
    "        msg[\"To\"] = row[1]\n",
    "        msg[\"Subject\"] = \"Exam Result\"\n",
    "        \n",
    "        msg.attach(MIMEText(message, \"plain\"))\n",
    "        # send the message via the server set up earlier.\n",
    "        s.send_message(msg)\n",
    "        del msg\n",
    "    \n",
    "        "
   ]
  },
  {
   "cell_type": "code",
   "execution_count": null,
   "id": "c4a8ad21",
   "metadata": {},
   "outputs": [],
   "source": [
    "s.quit()"
   ]
  },
  {
   "cell_type": "code",
   "execution_count": null,
   "id": "d7e7a082",
   "metadata": {},
   "outputs": [],
   "source": []
  }
 ],
 "metadata": {
  "kernelspec": {
   "display_name": "Python 3 (ipykernel)",
   "language": "python",
   "name": "python3"
  },
  "language_info": {
   "codemirror_mode": {
    "name": "ipython",
    "version": 3
   },
   "file_extension": ".py",
   "mimetype": "text/x-python",
   "name": "python",
   "nbconvert_exporter": "python",
   "pygments_lexer": "ipython3",
   "version": "3.11.3"
  }
 },
 "nbformat": 4,
 "nbformat_minor": 5
}
